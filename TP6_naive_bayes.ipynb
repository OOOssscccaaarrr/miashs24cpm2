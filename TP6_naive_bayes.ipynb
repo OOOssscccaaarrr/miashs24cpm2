{
 "cells": [
  {
   "cell_type": "markdown",
   "id": "28a84437",
   "metadata": {},
   "source": [
    "# Naive Bayes with sklearn\n",
    "\n",
    "We saw in class that Naive Bayes is a probabilistic classifier, that can easily support categorical and quantitative variables.\n",
    "\n",
    "Problem is ... `sklearn` does not natively work with both ...\n",
    "\n",
    "We will need to split again our data in quantitative and qualitative, and then code our own suggestions to take both into account.\n",
    "\n",
    "You can start with quantitative or qualitative data depending on the majority data type in your dataset."
   ]
  },
  {
   "cell_type": "code",
   "execution_count": 6,
   "id": "42573148",
   "metadata": {},
   "outputs": [],
   "source": [
    "#installation et importation des librairies nécessaires\n",
    "!pip install panda\n",
    "!pip install numpy\n",
    "!pip install matplotlib\n",
    "!pip install seaborn\n",
    "!pip install scipy\n",
    "\n",
    "import pandas as pd\n",
    "import numpy as np\n",
    "from matplotlib import pyplot as plt\n",
    "import seaborn as sns\n",
    "import csv\n",
    "\n",
    "#importation de la base de données de cours\n",
    "dfpokemon = pd.read_csv(\"../pokemon.csv\")\n",
    "\n",
    "#importation de notre base de données\n",
    "import requests\n",
    "response=requests.get('https://api.hearthstonejson.com/v1/190920/frFR/cards.collectible.json')\n",
    "data = response.json()\n",
    "def save_csv(dictio, attributs, name):\n",
    "    with open(name, mode='w', newline='', encoding='utf-8') as fichier_csv:\n",
    "        writer = csv.DictWriter(fichier_csv, fieldnames=attributs)\n",
    "        writer.writeheader()\n",
    "        for objet in dictio:\n",
    "            ligne = {attr: objet.get(attr, '') for attr in attributs}\n",
    "            writer.writerow(ligne)\n",
    "\n",
    "\n",
    "save_csv(data,[\"id\",\"name\",\"artist\",\"cardClass\",\"cost\",\"attack\",\"health\",\"set\",\"type\",\"rarity\"], \"dataMK1.csv\")\n",
    "df = pd.read_csv(\"dataMK1.csv\")"
   ]
  },
  {
   "cell_type": "code",
   "execution_count": 8,
   "id": "8536aa21",
   "metadata": {},
   "outputs": [],
   "source": [
    "# My target is survived\n",
    "y = df.is_legendary.values\n",
    "# For demonstration, I'm taking only 4 columns\n",
    "categorical_variables = [\"type1\", \"type2\"]\n",
    "quantitative_variables = ['defense', 'experience_growth', 'height_m', 'hp',\n",
    "       'percentage_male']\n",
    "\n",
    "X = df[categorical_variables + quantitative_variables].values\n",
    "\n",
    "X_quantitative = df[quantitative_variables].fillna(df[quantitative_variables].mean()).values\n",
    "\n",
    "X_categorical = df[categorical_variables].values\n",
    "\n"
   ]
  },
  {
   "cell_type": "markdown",
   "id": "04fb5b60",
   "metadata": {},
   "source": [
    "## Working with quantitative data\n",
    "With quantitative data, we can use the `GaussianNB` class."
   ]
  },
  {
   "cell_type": "code",
   "execution_count": 10,
   "id": "15c0b96e",
   "metadata": {},
   "outputs": [],
   "source": [
    "from sklearn.naive_bayes import GaussianNB\n",
    "from sklearn.metrics import classification_report"
   ]
  },
  {
   "cell_type": "code",
   "execution_count": 11,
   "id": "680fcc07",
   "metadata": {},
   "outputs": [
    {
     "name": "stdout",
     "output_type": "stream",
     "text": [
      "======= Training\n",
      "======= Prediction\n",
      "======= Results\n",
      "              precision    recall  f1-score   support\n",
      "\n",
      "           0       0.97      0.95      0.96       731\n",
      "           1       0.56      0.71      0.62        70\n",
      "\n",
      "    accuracy                           0.93       801\n",
      "   macro avg       0.76      0.83      0.79       801\n",
      "weighted avg       0.94      0.93      0.93       801\n",
      "\n"
     ]
    }
   ],
   "source": [
    "gaussian_nb = GaussianNB()\n",
    "\n",
    "print(\"======= Training\")\n",
    "gaussian_nb.fit(X_quantitative, y)\n",
    "\n",
    "print(\"======= Prediction\")\n",
    "predictions = gaussian_nb.predict(X_quantitative)\n",
    "\n",
    "print(\"======= Results\")\n",
    "print(classification_report(y, predictions))"
   ]
  },
  {
   "cell_type": "code",
   "execution_count": 12,
   "id": "e571de98",
   "metadata": {},
   "outputs": [],
   "source": [
    "predictions = gaussian_nb.predict_proba(X_quantitative)"
   ]
  },
  {
   "cell_type": "markdown",
   "id": "99f180b1",
   "metadata": {},
   "source": [
    "**Questions**:\n",
    "1. Plot the statistical distribution of your variables and see if any is highly skewed.\n",
    "2. Apply Gaussian Naive Bayes to the quantitative variables of your dataset.\n",
    "3. Retrieve class probability and plot the results as a function of the different features, using heatmap colors.\n",
    "4. Perform k-fold cross-validation and return the classification scores (accuracy, recall, precision).\n",
    "6. Try removing highly correlated data and see if your results improve."
   ]
  },
  {
   "cell_type": "markdown",
   "id": "538b5f16",
   "metadata": {},
   "source": [
    "## Working with qualitative data\n",
    "With qualitative data, we can use the class CategoricalNB."
   ]
  },
  {
   "cell_type": "code",
   "execution_count": 14,
   "id": "4958bda3",
   "metadata": {},
   "outputs": [],
   "source": [
    "from sklearn.naive_bayes import CategoricalNB\n",
    "from sklearn.preprocessing import LabelEncoder"
   ]
  },
  {
   "cell_type": "code",
   "execution_count": 15,
   "id": "fbefa9f4",
   "metadata": {},
   "outputs": [],
   "source": [
    "encoder = LabelEncoder()\n",
    "encoded_vars = []\n",
    "for category in X_categorical.T:\n",
    "    encoded_vars.append(encoder.fit_transform(category))"
   ]
  },
  {
   "cell_type": "code",
   "execution_count": 16,
   "id": "c630e8d7",
   "metadata": {},
   "outputs": [],
   "source": [
    "X_cat = np.array(encoded_vars).T"
   ]
  },
  {
   "cell_type": "code",
   "execution_count": 17,
   "id": "d252bb0b",
   "metadata": {},
   "outputs": [
    {
     "name": "stdout",
     "output_type": "stream",
     "text": [
      "======= Training\n",
      "======= Prediction\n",
      "======= Results\n",
      "              precision    recall  f1-score   support\n",
      "\n",
      "           0       0.91      1.00      0.95       731\n",
      "           1       0.00      0.00      0.00        70\n",
      "\n",
      "    accuracy                           0.91       801\n",
      "   macro avg       0.46      0.50      0.48       801\n",
      "weighted avg       0.83      0.91      0.87       801\n",
      "\n"
     ]
    }
   ],
   "source": [
    "gaussian_nb_categorical = CategoricalNB()\n",
    "\n",
    "print(\"======= Training\")\n",
    "gaussian_nb_categorical.fit(X_cat, y)\n",
    "\n",
    "print(\"======= Prediction\")\n",
    "predictions = gaussian_nb_categorical.predict(X_cat)\n",
    "\n",
    "print(\"======= Results\")\n",
    "print(classification_report(y, predictions))"
   ]
  },
  {
   "cell_type": "markdown",
   "id": "7682308c",
   "metadata": {},
   "source": [
    "**Questions**:\n",
    "1. Apply Gaussian Naive Bayes to the qualitative variables of your dataset.\n",
    "3. Retrieve class probability and plot the results as a function of the different features, using heatmap colors.\n",
    "4. Perform k-fold cross-validation and return the classification scores (accuracy, recall, precision).\n",
    "5. Compare to previous results.\n",
    "6. Transform every variable within your dataset to a qualitative using the class `sklearn.preprocessing.KBinsDiscretizer` and compare with previous results.\n",
    "7. Compare to what you achieved using `knn`."
   ]
  },
  {
   "cell_type": "markdown",
   "id": "bb6447f2",
   "metadata": {},
   "source": [
    "## Working with both data types\n",
    "It is annoying that sklearn does not allow to deal with both variables types...\n",
    "\n",
    "A solution to solve this is to:\n",
    "- Fit a GaussianNB on the quantitative variables and get the probabilities `quantitative_probabilities`\n",
    "- Fit a CategoricalNB on the qualitative variables `qualitative_probabilities`\n",
    "- Fit a new GaussianNB on the probbailities `quantitative_probabilities` and `qualitative_probabilities`.\n",
    "\n",
    "**Question**:\n",
    "1. Implement this solution and compare the results with what you obtained previously.\n",
    "2. **Bonus**: Suggest your own implementation using `sklearn` API for classifiers (see https://scikit-learn.org/stable/developers/develop.html).\n"
   ]
  },
  {
   "cell_type": "code",
   "execution_count": 60,
   "id": "af822841",
   "metadata": {},
   "outputs": [],
   "source": [
    "# Next step to do: use train / test or cross val approach using this method."
   ]
  }
 ],
 "metadata": {
  "kernelspec": {
   "display_name": "Python 3 (ipykernel)",
   "language": "python",
   "name": "python3"
  },
  "language_info": {
   "codemirror_mode": {
    "name": "ipython",
    "version": 3
   },
   "file_extension": ".py",
   "mimetype": "text/x-python",
   "name": "python",
   "nbconvert_exporter": "python",
   "pygments_lexer": "ipython3",
   "version": "3.10.12"
  }
 },
 "nbformat": 4,
 "nbformat_minor": 5
}
